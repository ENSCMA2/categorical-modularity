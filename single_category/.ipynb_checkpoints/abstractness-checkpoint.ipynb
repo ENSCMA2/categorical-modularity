{
 "cells": [
  {
   "cell_type": "code",
   "execution_count": 12,
   "metadata": {
    "executionInfo": {
     "elapsed": 1973,
     "status": "ok",
     "timestamp": 1610229679477,
     "user": {
      "displayName": "Karina Halevy",
      "photoUrl": "https://lh3.googleusercontent.com/a-/AOh14GjbjzumiVZHJjsq9rWXKNeNoLyQAHuqHmRwTfl1xw=s64",
      "userId": "04834282285567692005"
     },
     "user_tz": 480
    },
    "id": "9GMK5X4mJ-Zt"
   },
   "outputs": [],
   "source": [
    "'''\n",
    "Sentiment analysis of IMDB movie reviews: plotting results (mean accuracy and precision over 30 trials) \n",
    "against categorical modularity. Feel free to change file names or use non-interactive version \n",
    "abstractness.py to enter file names as command-line arguments.\n",
    "'''\n",
    "\n",
    "# imports\n",
    "from scipy.stats import spearmanr as sr\n",
    "import csv\n",
    "\n",
    "# scores: stores modularity scores - outer key = k, inner key = level\n",
    "scores = {\"2\": {\"1\": {}, \"2\": {}, \"3\": {}},\n",
    "         \"3\": {\"1\": {}, \"2\": {}, \"3\": {}},\n",
    "         \"4\": {\"1\": {}, \"2\": {}, \"3\": {}}}\n",
    "\n",
    "# reading in modularity data: our data assumes naming convention [level]_[k].csv within a \"data\" folder\n",
    "for k in scores.keys():\n",
    "    for l in scores[k].keys():\n",
    "        with open(\"data/\" + l + \"_\" + k + \".csv\", newline = \"\") as csvfile:\n",
    "            reader = csv.reader(csvfile)\n",
    "            rows = [row for row in reader]\n",
    "            for i in range(len(rows[0][1:])):\n",
    "                scores[k][l][rows[0][i + 1]] = [float(score[i + 1]) for score in rows[1:]]\n",
    "\n",
    "metrics = {\"acc\": [], \"prec\": []}\n",
    "\n",
    "# reading in movie task performance data: assumes name movie_metrics.csv in ../task_movies directory\n",
    "# 2-column data [accuracy],[precision]\n",
    "with open(\"../task_movies/movie_metrics.csv\", newline = \"\") as csvfile:\n",
    "    reader = csv.reader(csvfile)\n",
    "    rows = [list(row) for row in reader]\n",
    "    for i in range(1, len(rows)):\n",
    "        metrics[\"acc\"].append(float(rows[i][0]))\n",
    "        metrics[\"prec\"].append(float(rows[i][1]))\n",
    "\n",
    "# writes results to a file\n",
    "with open(\"movies_correlations.csv\", \"w\") as o:\n",
    "    o.write(\"level,k,category,accuracy,precision\\n\") # column headers\n",
    "    for k in scores.keys(): # for each level 1, 2, 3\n",
    "        for l in scores[k].keys(): # go through k = 2, 3, 4\n",
    "            for cat in scores[k][l].keys():\n",
    "                o.write(l + \",\" + k + \",\" + cat + \",\" + str(sr(scores[k][l][cat], metrics[\"acc\"]).correlation)\n",
    "                        + \",\" + str(sr(scores[k][l][cat], metrics[\"prec\"]).correlation) + \"\\n\")"
   ]
  },
  {
   "cell_type": "code",
   "execution_count": null,
   "metadata": {},
   "outputs": [],
   "source": []
  }
 ],
 "metadata": {
  "colab": {
   "authorship_tag": "ABX9TyOuWz6DRy/qW4AMjWRZc21Z",
   "name": "abstractness.ipynb",
   "provenance": []
  },
  "kernelspec": {
   "display_name": "Python 3",
   "language": "python",
   "name": "python3"
  },
  "language_info": {
   "codemirror_mode": {
    "name": "ipython",
    "version": 3
   },
   "file_extension": ".py",
   "mimetype": "text/x-python",
   "name": "python",
   "nbconvert_exporter": "python",
   "pygments_lexer": "ipython3",
   "version": "3.7.4"
  }
 },
 "nbformat": 4,
 "nbformat_minor": 1
}
